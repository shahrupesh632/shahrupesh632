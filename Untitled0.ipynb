{
  "nbformat": 4,
  "nbformat_minor": 0,
  "metadata": {
    "colab": {
      "provenance": [],
      "authorship_tag": "ABX9TyNppa3QVihrwB2Cnen0zDPS",
      "include_colab_link": true
    },
    "kernelspec": {
      "name": "python3",
      "display_name": "Python 3"
    },
    "language_info": {
      "name": "python"
    }
  },
  "cells": [
    {
      "cell_type": "markdown",
      "metadata": {
        "id": "view-in-github",
        "colab_type": "text"
      },
      "source": [
        "<a href=\"https://colab.research.google.com/github/shahrupesh632/shahrupesh632/blob/main/Untitled0.ipynb\" target=\"_parent\"><img src=\"https://colab.research.google.com/assets/colab-badge.svg\" alt=\"Open In Colab\"/></a>"
      ]
    },
    {
      "cell_type": "code",
      "execution_count": 1,
      "metadata": {
        "colab": {
          "base_uri": "https://localhost:8080/"
        },
        "id": "XTCyh_eq-bPO",
        "outputId": "3efcfd33-ba54-4b67-ea1f-51cae12a2301"
      },
      "outputs": [
        {
          "output_type": "stream",
          "name": "stderr",
          "text": [
            "/usr/local/lib/python3.8/dist-packages/torch/cuda/__init__.py:497: UserWarning: Can't initialize NVML\n",
            "  warnings.warn(\"Can't initialize NVML\")\n"
          ]
        }
      ],
      "source": [
        "import spacy"
      ]
    },
    {
      "cell_type": "code",
      "source": [
        "from spacy.lang.en.stop_words import STOP_WORDS"
      ],
      "metadata": {
        "id": "FUVuaFBf-gX7"
      },
      "execution_count": 2,
      "outputs": []
    },
    {
      "cell_type": "code",
      "source": [
        "print(STOP_WORDS)"
      ],
      "metadata": {
        "colab": {
          "base_uri": "https://localhost:8080/"
        },
        "id": "ieCZJhzL-t2_",
        "outputId": "dc654d92-8584-4611-ba9f-bb90212fcf90"
      },
      "execution_count": 4,
      "outputs": [
        {
          "output_type": "stream",
          "name": "stdout",
          "text": [
            "{'ourselves', 'regarding', 'another', 'they', 'most', 'where', 'i', 'six', 'more', 'sometimes', \"'d\", 'nobody', 'further', 'whatever', 'along', 'twelve', 'name', 'except', 'enough', 'am', 'two', 'n‘t', 'even', 'other', 'though', 'per', 'whereas', 'must', 'somehow', 'nevertheless', 'the', 'empty', 'now', 'however', 'we', 'will', 'please', 'among', 'always', 'before', 'any', 'toward', 'somewhere', 'move', 'thereafter', 'various', 'front', 'our', 'then', 'by', 'its', 'whence', 'anything', 'see', 'less', 'too', 'my', 'fifteen', 'otherwise', 'herself', 'already', 'us', 'every', 'yet', 'anyone', 'alone', 'within', 'towards', 'with', 'seeming', 'fifty', 'beforehand', 'it', 'her', 'here', 'whose', 'using', 'whole', 'themselves', 'thence', 'why', 'whoever', 'due', 'not', 'there', 'much', 'eight', 'no', 'cannot', 'mostly', 'something', 'would', 'all', 'throughout', 'you', 'everyone', 'these', 'next', 'anywhere', 'formerly', 'often', 'give', 'keep', 'perhaps', 'for', 're', 'whom', 'and', 'take', 'becoming', 'again', 'only', 'may', 'least', 'into', 'can', 'or', 'part', 'neither', 'might', 'out', 'very', 'when', 'could', 'a', 'he', 'indeed', 'as', 'noone', 'become', '‘re', 'doing', 'in', 'full', \"n't\", 'twenty', 'meanwhile', \"'m\", 'former', '’d', 'afterwards', 'some', '’ll', '‘m', 'sixty', 'them', 'few', 'go', 'hereupon', 'myself', 'is', 'of', 'three', 'became', 'whereupon', 'many', 'anyway', 'ten', 'moreover', 'elsewhere', 'ever', 'do', 'hundred', 'else', 'itself', 'on', 'hereafter', 'herein', 'make', 'thus', 'being', 'therefore', 'upon', 'did', 'been', 'if', 'were', 'onto', 'none', 'which', 'your', 'unless', 'used', 'hereby', 'was', 'seems', 'hence', 'wherein', 'because', 'from', 'third', 'together', 'ours', 'anyhow', 'to', 'beyond', 'someone', 'such', 'sometime', 'him', 'than', 'amongst', 'namely', 'across', 'until', 'put', 'that', 'eleven', '’re', 'nine', 'others', 'although', 'down', 'really', 'top', 'mine', 'back', 'once', 'whereafter', 'whenever', 'this', 'both', 'against', 'say', 'nor', 'wherever', 'beside', 'after', 'since', 'therein', 'does', 'yourselves', 'thru', \"'re\", 'same', 'one', 'first', 'through', 'under', 'off', \"'s\", 'also', 'five', 'without', 'seem', 'quite', 'has', 'n’t', 'but', 'just', 'everywhere', 'yours', 'be', 'below', 'whither', 'latter', 'latterly', 'hers', 'last', 'how', 'nowhere', 'yourself', 'while', 'above', 'about', 'get', 'four', 'behind', 'made', '’s', 'who', 'himself', 'whereby', \"'ll\", 'whether', '‘d', 'show', 'should', 'so', 'well', 'still', 'either', '‘ve', 'call', 'forty', 'an', 'serious', '‘ll', 'never', 'up', 'amount', 'each', 'had', 'almost', 'becomes', 'between', 'bottom', 'she', 'thereupon', 'via', 'their', 'side', '’ve', \"'ve\", 'over', 'nothing', '’m', 'own', 'during', 'what', 'his', 'those', 'thereby', 'several', 'done', 'around', 'rather', 'me', 'besides', 'seemed', 'at', 'are', 'ca', 'have', 'everything', '‘s'}\n"
          ]
        }
      ]
    },
    {
      "cell_type": "code",
      "source": [
        "len(STOP_WORDS)"
      ],
      "metadata": {
        "colab": {
          "base_uri": "https://localhost:8080/"
        },
        "id": "IUYT7vqH-t6k",
        "outputId": "531fcb95-597b-4fcf-d1e0-665417f79077"
      },
      "execution_count": 5,
      "outputs": [
        {
          "output_type": "execute_result",
          "data": {
            "text/plain": [
              "326"
            ]
          },
          "metadata": {},
          "execution_count": 5
        }
      ]
    },
    {
      "cell_type": "code",
      "source": [
        "nlp=spacy.load(\"en_core_web_sm\")"
      ],
      "metadata": {
        "id": "U3nGxmeh_A8H"
      },
      "execution_count": 7,
      "outputs": []
    },
    {
      "cell_type": "code",
      "source": [
        "doc=nlp(\"I just wish ,all of you to have good package placements soon!!\")"
      ],
      "metadata": {
        "id": "f6hCqCnU_DUp"
      },
      "execution_count": 8,
      "outputs": []
    },
    {
      "cell_type": "code",
      "source": [
        "### display all the functions words(stop_words)::is_stop"
      ],
      "metadata": {
        "id": "E-W2JBbh_DYG"
      },
      "execution_count": null,
      "outputs": []
    },
    {
      "cell_type": "code",
      "source": [
        "for token in doc:\n",
        "   if token.is_stop:\n",
        "     print(token)"
      ],
      "metadata": {
        "colab": {
          "base_uri": "https://localhost:8080/"
        },
        "id": "APi7C4dx_MiV",
        "outputId": "0fd84428-f244-40ba-aacc-76dbc69f3bb7"
      },
      "execution_count": 10,
      "outputs": [
        {
          "output_type": "stream",
          "name": "stdout",
          "text": [
            "I\n",
            "just\n",
            "all\n",
            "of\n",
            "you\n",
            "to\n",
            "have\n"
          ]
        }
      ]
    },
    {
      "cell_type": "code",
      "source": [
        "### display all the content words"
      ],
      "metadata": {
        "id": "Rs0mQ3Ov_rCS"
      },
      "execution_count": null,
      "outputs": []
    },
    {
      "cell_type": "code",
      "source": [
        "for token in doc:\n",
        "   if not token.is_stop:\n",
        "     print(token)"
      ],
      "metadata": {
        "colab": {
          "base_uri": "https://localhost:8080/"
        },
        "id": "dEMDoGX8_Mlz",
        "outputId": "9a76874a-a72c-43b0-ffe6-ba319c18fe79"
      },
      "execution_count": 11,
      "outputs": [
        {
          "output_type": "stream",
          "name": "stdout",
          "text": [
            "wish\n",
            "good\n",
            "package\n",
            "placements\n",
            "soon\n"
          ]
        }
      ]
    },
    {
      "cell_type": "code",
      "source": [
        "### Do the above task using function"
      ],
      "metadata": {
        "id": "KKcWluYB_5jn"
      },
      "execution_count": null,
      "outputs": []
    },
    {
      "cell_type": "code",
      "source": [
        "content_words=[]\n",
        "def text_cleaning(text):\n",
        "  for token in text:\n",
        "    if not token.is_stop:\n",
        "      content_words.append(token)\n",
        "\n",
        "text_cleaning(doc)"
      ],
      "metadata": {
        "id": "C91HOd8G_5p4"
      },
      "execution_count": 12,
      "outputs": []
    },
    {
      "cell_type": "code",
      "source": [
        "content_words"
      ],
      "metadata": {
        "colab": {
          "base_uri": "https://localhost:8080/"
        },
        "id": "8ee0p5fS_5td",
        "outputId": "7a0da370-c9f6-489b-c5f8-f720382ed26a"
      },
      "execution_count": 13,
      "outputs": [
        {
          "output_type": "execute_result",
          "data": {
            "text/plain": [
              "[wish, good, package, placements, soon]"
            ]
          },
          "metadata": {},
          "execution_count": 13
        }
      ]
    },
    {
      "cell_type": "code",
      "source": [
        "\n",
        "def text_cleaning(text):\n",
        "  content_words=[ token.text for token in text if not token.is_stop]\n",
        "  return content_words\n",
        "     \n",
        "\n",
        "print(text_cleaning(doc))"
      ],
      "metadata": {
        "colab": {
          "base_uri": "https://localhost:8080/"
        },
        "id": "WulEdPWNAtLC",
        "outputId": "7e2e4935-48c0-4398-e47b-8a8457f46923"
      },
      "execution_count": 15,
      "outputs": [
        {
          "output_type": "stream",
          "name": "stdout",
          "text": [
            "['wish', 'good', 'package', 'placements', 'soon']\n"
          ]
        }
      ]
    },
    {
      "cell_type": "code",
      "source": [],
      "metadata": {
        "id": "MsOz425OClze"
      },
      "execution_count": null,
      "outputs": []
    },
    {
      "cell_type": "code",
      "source": [],
      "metadata": {
        "id": "jSAOtlilCr4J"
      },
      "execution_count": null,
      "outputs": []
    },
    {
      "cell_type": "code",
      "source": [],
      "metadata": {
        "id": "Zoe4VxpxCs1Q"
      },
      "execution_count": null,
      "outputs": []
    }
  ]
}